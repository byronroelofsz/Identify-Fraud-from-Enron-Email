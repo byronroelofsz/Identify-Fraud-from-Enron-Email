{
 "cells": [
  {
   "cell_type": "markdown",
   "metadata": {},
   "source": [
    "# P5 - Identify Fraud from Enron Email"
   ]
  },
  {
   "cell_type": "markdown",
   "metadata": {},
   "source": [
    "## 1. Goal of the project\n",
    "\n",
    "Enron was an energy trading company that was one of the top 10 largest companies in the US in 2001. In 2002, the company was bankrupt and people were put in jail due to corporate fraud and corruption. Enron was involved in the following schemes:\n",
    "\n",
    "- selling assets to shell companies at the end of each month, and buying them back at the beginning of the               next month to hide accounting losses\n",
    "- causing electrical grid failures in California\n",
    "\n",
    "Enron had a second life because of its data set that includes one of the largest corpus of real emails. We will use this data set combined with financial information to indetify persons of interest involved in this fraud by implementing machine learning techniques.\n",
    "\n",
    "A person of interest is a person who was:\n",
    "- indicted\n",
    "- settled without admitting being guilty\n",
    "- testified in exchange for immunity\n",
    "        \n",
    "The aggregated Enron email + financial dataset is stored in a dictionary, where each key in the dictionary is a person’s name, and the value is a dictionary containing all the features of that person. "
   ]
  },
  {
   "cell_type": "code",
   "execution_count": 2,
   "metadata": {
    "collapsed": false
   },
   "outputs": [
    {
     "name": "stdout",
     "output_type": "stream",
     "text": [
      "Populating the interactive namespace from numpy and matplotlib\n"
     ]
    }
   ],
   "source": [
    "#!/usr/bin/python\n",
    "\n",
    "import sys\n",
    "import pickle\n",
    "from time import time\n",
    "import numpy as np\n",
    "import matplotlib.pyplot as plt\n",
    "from __future__ import division\n",
    "sys.path.append(\"../tools/\")\n",
    "\n",
    "# Use seaborn for plotting defaults\n",
    "import seaborn as sns; sns.set()\n",
    "\n",
    "%pylab inline\n",
    "\n",
    "from feature_format import featureFormat, targetFeatureSplit\n",
    "from tester import dump_classifier_and_data\n",
    "\n",
    "data_dict = pickle.load(open(\"final_project_dataset.pkl\", \"r\") )"
   ]
  },
  {
   "cell_type": "markdown",
   "metadata": {},
   "source": [
    "## a. Exploring the data set"
   ]
  },
  {
   "cell_type": "code",
   "execution_count": 3,
   "metadata": {
    "collapsed": false
   },
   "outputs": [
    {
     "name": "stdout",
     "output_type": "stream",
     "text": [
      "Number of people in the dataset:  146\n",
      "Number of persons of interest (POI):  18\n",
      "Proportion of POIs in the dataset: 0.123287671233\n"
     ]
    }
   ],
   "source": [
    "nb_people=len(data_dict)\n",
    "print 'Number of people in the dataset: ',nb_people\n",
    "nb_poi=sum([data_dict[key]['poi']==1 for key in data_dict])\n",
    "print \"Number of persons of interest (POI): \",nb_poi\n",
    "print \"Proportion of POIs in the dataset:\",nb_poi/nb_people"
   ]
  },
  {
   "cell_type": "markdown",
   "metadata": {},
   "source": [
    "We observe that out of 146 persons included in the data set, only 18 persons are considered as persons of interest, which reprents 12.3%. The data set is very unbalanced."
   ]
  },
  {
   "cell_type": "markdown",
   "metadata": {},
   "source": [
    "How many features are available in the data set?"
   ]
  },
  {
   "cell_type": "code",
   "execution_count": 4,
   "metadata": {
    "collapsed": false
   },
   "outputs": [
    {
     "name": "stdout",
     "output_type": "stream",
     "text": [
      "Number of features available for each person:  21\n",
      " \n",
      "Name of the features: ['salary', 'to_messages', 'deferral_payments', 'total_payments', 'exercised_stock_options', 'bonus', 'restricted_stock', 'shared_receipt_with_poi', 'restricted_stock_deferred', 'total_stock_value', 'expenses', 'loan_advances', 'from_messages', 'other', 'from_this_person_to_poi', 'poi', 'director_fees', 'deferred_income', 'long_term_incentive', 'email_address', 'from_poi_to_this_person']\n"
     ]
    }
   ],
   "source": [
    "print 'Number of features available for each person: ', len(data_dict[data_dict.keys()[0]])\n",
    "print ' '\n",
    "print 'Name of the features:',data_dict[data_dict.keys()[1]].keys()"
   ]
  },
  {
   "cell_type": "markdown",
   "metadata": {},
   "source": [
    "## b. Outlier investigation"
   ]
  },
  {
   "cell_type": "markdown",
   "metadata": {},
   "source": [
    "Are there outliers in the data set? We can start by creating a scatter plot with the salary and bonus features."
   ]
  },
  {
   "cell_type": "code",
   "execution_count": 5,
   "metadata": {
    "collapsed": false
   },
   "outputs": [],
   "source": [
    "features_list = [\"poi\",\"salary\", \"bonus\"]\n",
    "data = featureFormat(data_dict, features_list, sort_keys = True)"
   ]
  },
  {
   "cell_type": "code",
   "execution_count": 6,
   "metadata": {
    "collapsed": false
   },
   "outputs": [
    {
     "name": "stderr",
     "output_type": "stream",
     "text": [
      "/Users/yanndupis/anaconda/lib/python2.7/site-packages/matplotlib/collections.py:590: FutureWarning: elementwise comparison failed; returning scalar instead, but in the future will perform elementwise comparison\n",
      "  if self._edgecolors == str('face'):\n"
     ]
    },
    {
     "data": {
      "image/png": "[encoded data removed]",
      "text/plain": [
       "<matplotlib.figure.Figure at 0x103eb6990>"
      ]
     },
     "metadata": {},
     "output_type": "display_data"
    }
   ],
   "source": [
    "poi=data[:,0]\n",
    "salary = data[:,1]\n",
    "bonus = data[:,2]\n",
    "\n",
    "plt.scatter(salary[poi==1],bonus[poi==1],c='red',s=50,label='poi')\n",
    "plt.scatter(salary[poi==0],bonus[poi==0],c='blue',s=50,label='not poi')\n",
    "\n",
    "plt.xlabel(\"Salary\")\n",
    "plt.ylabel(\"Bonus\")\n",
    "plt.legend(loc='lower right')\n",
    "plt.title(\"Bonus vs Salary\")\n",
    "plt.show()"
   ]
  },
  {
   "cell_type": "markdown",
   "metadata": {},
   "source": [
    "We can observe that there is clearly an outlier with a salary higher than 25,000,000 dollars and a bonus higher than 80,000,000 dollars. But who is this outlier?"
   ]
  },
  {
   "cell_type": "code",
   "execution_count": 7,
   "metadata": {
    "collapsed": false
   },
   "outputs": [
    {
     "name": "stdout",
     "output_type": "stream",
     "text": [
      "What's the name of the outlier: ['TOTAL']\n"
     ]
    }
   ],
   "source": [
    "outliers=[]\n",
    "for key in data_dict.keys():\n",
    "    if (data_dict[key]['bonus']>0.8*1e8) & (data_dict[key]['bonus']!='NaN') & (data_dict[key]['salary']>2.5*1e7):\n",
    "        outliers.append(key)\n",
    "print \"What's the name of the outlier:\",outliers"
   ]
  },
  {
   "cell_type": "markdown",
   "metadata": {},
   "source": [
    "It appears that there is a bug in the data set. The outlier is in fact the total of each variable. Let's remove this outlier."
   ]
  },
  {
   "cell_type": "code",
   "execution_count": 8,
   "metadata": {
    "collapsed": true
   },
   "outputs": [],
   "source": [
    "# We use the method pop to remove in the dictionary the item 'TOTAL.\n",
    "data_dict.pop('TOTAL',0)\n",
    "data = featureFormat(data_dict, features_list)"
   ]
  },
  {
   "cell_type": "code",
   "execution_count": 9,
   "metadata": {
    "collapsed": false
   },
   "outputs": [
    {
     "data": {
      "image/png": "[encoded data removed]",
      "text/plain": [
       "<matplotlib.figure.Figure at 0x108e218d0>"
      ]
     },
     "metadata": {},
     "output_type": "display_data"
    }
   ],
   "source": [
    "poi=data[:,0]\n",
    "salary = data[:,1]\n",
    "bonus = data[:,2]\n",
    "plt.scatter(salary[poi==1],bonus[poi==1],c='red',s=50,label='poi')\n",
    "plt.scatter(salary[poi==0],bonus[poi==0],c='blue',s=50,label='not poi')\n",
    "\n",
    "plt.xlabel(\"Salary\")\n",
    "plt.ylabel(\"Bonus\")\n",
    "plt.title(\"Bonus vs Salary\")\n",
    "plt.legend(loc='lower right')\n",
    "plt.show()"
   ]
  },
  {
   "cell_type": "markdown",
   "metadata": {
    "collapsed": false
   },
   "source": [
    "Once we remove the outlier 'TOTAL', we can notice that there are still outliers in the data set. However a big proportion of them are POI. For this reason, it makes sense to keep them in the data set. Maybe POis tend to have higher salaries and bonuses. "
   ]
  },
  {
   "cell_type": "markdown",
   "metadata": {},
   "source": [
    "Are there features with many missing values? "
   ]
  },
  {
   "cell_type": "code",
   "execution_count": 10,
   "metadata": {
    "collapsed": false
   },
   "outputs": [
    {
     "name": "stdout",
     "output_type": "stream",
     "text": [
      "Number of persons who have missing values for the salary? 51\n"
     ]
    }
   ],
   "source": [
    "print \"Number of persons who have missing values for the salary?\",sum([data_dict[key]['salary']=='NaN' for key in data_dict])"
   ]
  },
  {
   "cell_type": "markdown",
   "metadata": {},
   "source": [
    "Sklearn algorithm needs a numpy array and doesn't handle missing values(NaN). We will use the helper function featureFormat that transforms a dictionary to numpy array and replaces missing values with 0."
   ]
  },
  {
   "cell_type": "markdown",
   "metadata": {},
   "source": [
    "# 2. Feature Selection/Engineering"
   ]
  },
  {
   "cell_type": "markdown",
   "metadata": {
    "collapsed": true
   },
   "source": [
    "## a. New Feature"
   ]
  },
  {
   "cell_type": "markdown",
   "metadata": {},
   "source": [
    "Persons of interest may have strong email connections. POIs might send emails to other POIs at a higher rate than the rest of the population. For this reason, let's create two new features: one that represents the fraction of emails that a person sent to POIs, and another feature that represents the fraction of emails that a person received from POIs."
   ]
  },
  {
   "cell_type": "code",
   "execution_count": 11,
   "metadata": {
    "collapsed": false
   },
   "outputs": [],
   "source": [
    "def computeFraction(poi_messages, all_messages):\n",
    "    \"\"\" given a number messages to/from POI (numerator) \n",
    "        and number of all messages to/from a person (denominator),\n",
    "        return the fraction of messages to/from that person\n",
    "        that are from/to a POI\n",
    "   \"\"\"\n",
    "    fraction = 0.\n",
    "    \n",
    "    if poi_messages=='NaN' or all_messages=='NaN':\n",
    "        fraction = 0.\n",
    "    else:  \n",
    "        fraction=float(poi_messages)/float(all_messages)\n",
    "\n",
    "    return fraction\n",
    "\n",
    "\n",
    "for name in data_dict:\n",
    "\n",
    "    data_point = data_dict[name]\n",
    "\n",
    "    from_poi_to_this_person = data_point[\"from_poi_to_this_person\"]\n",
    "    to_messages = data_point[\"to_messages\"]\n",
    "    fraction_from_poi = computeFraction( from_poi_to_this_person, to_messages )\n",
    "    data_point[\"fraction_from_poi\"] = fraction_from_poi\n",
    "\n",
    "\n",
    "    from_this_person_to_poi = data_point[\"from_this_person_to_poi\"]\n",
    "    from_messages = data_point[\"from_messages\"]\n",
    "    fraction_to_poi = computeFraction( from_this_person_to_poi, from_messages )\n",
    "    data_point[\"fraction_to_poi\"] = fraction_to_poi"
   ]
  },
  {
   "cell_type": "code",
   "execution_count": 12,
   "metadata": {
    "collapsed": true
   },
   "outputs": [],
   "source": [
    "fraction_to_poi=[data_dict[key][\"fraction_to_poi\"] for key in data_dict]\n",
    "fraction_from_poi=[data_dict[key][\"fraction_from_poi\"] for key in data_dict]\n",
    "poi=[data_dict[key][\"poi\"]==1 for key in data_dict]"
   ]
  },
  {
   "cell_type": "markdown",
   "metadata": {},
   "source": [
    "Let's create a scatter plot with the fraction of emails the person received from POIs against the fraction of emails the person sent to POIs."
   ]
  },
  {
   "cell_type": "code",
   "execution_count": 14,
   "metadata": {
    "collapsed": false
   },
   "outputs": [
    {
     "data": {
      "image/png": "[encoded data removed]",
      "text/plain": [
       "<matplotlib.figure.Figure at 0x1096f4e10>"
      ]
     },
     "metadata": {},
     "output_type": "display_data"
    }
   ],
   "source": [
    "for i in range(len(poi)):\n",
    "    if poi[i]==1:\n",
    "        plt.scatter(fraction_from_poi[i],fraction_to_poi[i],c='red',s=50)\n",
    "    else:\n",
    "        plt.scatter(fraction_from_poi[i],fraction_to_poi[i],c='blue',s=50)\n",
    "plt.xlabel('Fraction of emails the person received from a POI') \n",
    "plt.ylabel('Fraction of emails the person sent to a POI') \n",
    "plt.show()"
   ]
  },
  {
   "cell_type": "markdown",
   "metadata": {},
   "source": [
    "We can observe that these two features have a discriminating power between POI and non POI. For example, we can observe that there are no POIs with fraction_to_poi<0.2."
   ]
  },
  {
   "cell_type": "markdown",
   "metadata": {},
   "source": [
    "## b. Feature Selection"
   ]
  },
  {
   "cell_type": "markdown",
   "metadata": {},
   "source": [
    "To select the features we will use an automated feature selection function named SelectKBest from the sklearn library. We will tune the parameter K (number of features) at the same time we tune the parameters of the machine learning algorithm during the implementation of cross-validation. If we select the number of features on the entire data set and then we tune the parameters of the machine learning algorithm there is a risk of overfitting."
   ]
  },
  {
   "cell_type": "code",
   "execution_count": 15,
   "metadata": {
    "collapsed": false
   },
   "outputs": [],
   "source": [
    "from sklearn.feature_selection import SelectKBest, f_classif\n",
    "\n",
    "def feature_selection(nb_features,features, labels):\n",
    "    selector = SelectKBest(f_classif, k=nb_features)\n",
    "    selector.fit(features, labels)\n",
    "    return selector"
   ]
  },
  {
   "cell_type": "markdown",
   "metadata": {},
   "source": [
    "For now, let's create a numpy array including all the features (except email_address) that we will use to train our machine learning algorithm and, at the same time, select the number of features that we want to include in the model."
   ]
  },
  {
   "cell_type": "code",
   "execution_count": 14,
   "metadata": {
    "collapsed": true
   },
   "outputs": [],
   "source": [
    "my_dataset=data_dict\n",
    "\n",
    "features_list=['poi','salary',\n",
    " 'to_messages',\n",
    " 'deferral_payments',\n",
    " 'total_payments',\n",
    " 'exercised_stock_options',\n",
    " 'bonus',\n",
    " 'restricted_stock',\n",
    " 'shared_receipt_with_poi',\n",
    " 'restricted_stock_deferred',\n",
    " 'total_stock_value',\n",
    " 'expenses',\n",
    " 'loan_advances',\n",
    " 'from_messages',\n",
    " 'other',\n",
    " 'director_fees',\n",
    " 'deferred_income',\n",
    " 'long_term_incentive',\n",
    "'fraction_from_poi',\n",
    "'fraction_to_poi',\n",
    "'from_poi_to_this_person',\n",
    "'from_this_person_to_poi']"
   ]
  },
  {
   "cell_type": "markdown",
   "metadata": {},
   "source": [
    "We use the helper function to create a numpy array and we split the data set between features and labels."
   ]
  },
  {
   "cell_type": "code",
   "execution_count": 15,
   "metadata": {
    "collapsed": true
   },
   "outputs": [],
   "source": [
    "data = featureFormat(my_dataset, features_list, sort_keys = True)\n",
    "labels, features = targetFeatureSplit(data)"
   ]
  },
  {
   "cell_type": "markdown",
   "metadata": {},
   "source": [
    "# 3. Validation strategy and evluation metrics"
   ]
  },
  {
   "cell_type": "markdown",
   "metadata": {},
   "source": [
    "## a. Implementation of cross-validation"
   ]
  },
  {
   "cell_type": "markdown",
   "metadata": {},
   "source": [
    "To tune the machine learning algorithm we will use the cross-validation method. It's a great method to maximize the accuracy of the metrics we will chose to assess the performance of the algorithm. This method will also correctly tune the algorithm parameters to find the right trade-off between bias and variance in order to make sure that our algorithm is able to generalize (not overfitting).\n",
    "\n",
    "Usually we use K-cross-validation that consists of spliting the data into K chunks and performs K fits, where each chunk gets a turn as the validation set. \n",
    "Here, we will use a different cross-validation method, named StratifiedShuffleSplit, because of the small size of the data set and the unbalanced labels. This cross-validation object is a merge of StratifiedKFold and ShuffleSplit, which returns stratified randomized folds. The folds are made by preserving the percentage of samples for each class."
   ]
  },
  {
   "cell_type": "code",
   "execution_count": 16,
   "metadata": {
    "collapsed": true
   },
   "outputs": [],
   "source": [
    "from sklearn.cross_validation import StratifiedShuffleSplit\n",
    "from sklearn.feature_selection import SelectKBest, f_classif\n",
    "\n",
    "def test_classifier(clf, labels, features,nb_features, folds = 1000):\n",
    "    cv = StratifiedShuffleSplit(labels, folds, random_state = 42)\n",
    "    true_negatives = 0\n",
    "    false_negatives = 0\n",
    "    true_positives = 0\n",
    "    false_positives = 0\n",
    "    precision=0\n",
    "    recall=0\n",
    "    f1=0\n",
    "    f2=0\n",
    "    for train_idx, test_idx in cv: \n",
    "        features_train = []\n",
    "        features_test  = []\n",
    "        labels_train   = []\n",
    "        labels_test    = []\n",
    "        for ii in train_idx:\n",
    "            features_train.append( features[ii] )\n",
    "            labels_train.append( labels[ii] )\n",
    "        for jj in test_idx:\n",
    "            features_test.append( features[jj] )\n",
    "            labels_test.append( labels[jj] )\n",
    "            \n",
    "        #Selection of the best K features   \n",
    "        selector=feature_selection(nb_features,features_train, labels_train)\n",
    "        features_train_transformed = selector.transform(features_train)\n",
    "        features_test_transformed  = selector.transform(features_test)    \n",
    "            \n",
    "        ### fit the classifier using training set, and test on test set\n",
    "        clf.fit(features_train_transformed, labels_train)\n",
    "        predictions = clf.predict(features_test_transformed)\n",
    "        for prediction, truth in zip(predictions, labels_test):\n",
    "            if prediction == 0 and truth == 0:\n",
    "                true_negatives += 1\n",
    "            elif prediction == 0 and truth == 1:\n",
    "                false_negatives += 1\n",
    "            elif prediction == 1 and truth == 0:\n",
    "                false_positives += 1\n",
    "            elif prediction == 1 and truth == 1:\n",
    "                true_positives += 1\n",
    "            else:\n",
    "                break\n",
    "   \n",
    "    try:\n",
    "        total_predictions = true_negatives + false_negatives + false_positives + true_positives\n",
    "        accuracy = 1.0*(true_positives + true_negatives)/total_predictions\n",
    "        precision = 1.0*true_positives/(true_positives+false_positives)\n",
    "        recall = 1.0*true_positives/(true_positives+false_negatives)\n",
    "        f1 = 2.0 * true_positives/(2*true_positives + false_positives+false_negatives)\n",
    "        f2 = (1+2.0*2.0) * precision*recall/(4*precision + recall)\n",
    "    except:\n",
    "        #print \"Got a divide by zero when trying out:\", clf\n",
    "        None\n",
    "    return precision,recall,f1,f2"
   ]
  },
  {
   "cell_type": "markdown",
   "metadata": {},
   "source": [
    "## b. Evaluation metrics"
   ]
  },
  {
   "cell_type": "markdown",
   "metadata": {},
   "source": [
    "To assess the performance of our algorithm we will look at two evaluation metrics:\n",
    "\n",
    "- **Precision** = true positives/(true positives + false positives)\n",
    "- **Recall** = true positives/(true positives + false negatives)\n",
    "      \n",
    "There’s usually a tradeoff between precision and recall. Sometimes the identifier doesn't have great precision, but it does have good recall. That means that, nearly every time a POI shows up in the test set, we are able to identify him or her. The cost of this is that we sometimes get some false positives, where non-POI get flagged.\n",
    "\n",
    "Sometimes, instead, the identifier doesn't have a great recall, but it does have good precision. That means that whenever a POI gets flagged in the test set, we know with a lot of confidence that it's very likely to be a real POI and not a false alarm. On the other hand, the price we pay for this is that we sometimes miss real POIs, since we are reclucant to pull the trigger on edge cases. \n",
    "\n",
    "For this project we want that precision and recall are both at least 0.3.\n",
    "\n",
    "We will also compute the **F-score** that combines precision and recall. There are two versions of the F-score. The F1 score put the same weight on precision and recall, however F2 score put more wights on recall."
   ]
  },
  {
   "cell_type": "markdown",
   "metadata": {},
   "source": [
    "# 4. Choosing and tuning the algorithm"
   ]
  },
  {
   "cell_type": "markdown",
   "metadata": {},
   "source": [
    "## a. Gaussian Naive Bayes (GaussianNB)\n",
    "\n",
    "For the Gaussian Naive Bayes algorithm there are not specific parameters to tune, however we need to select the number of features."
   ]
  },
  {
   "cell_type": "code",
   "execution_count": 17,
   "metadata": {
    "collapsed": false
   },
   "outputs": [
    {
     "name": "stderr",
     "output_type": "stream",
     "text": [
      "/Users/yanndupis/anaconda/lib/python2.7/site-packages/sklearn/feature_selection/univariate_selection.py:113: UserWarning: Features [11] are constant.\n",
      "  UserWarning)\n"
     ]
    }
   ],
   "source": [
    "from sklearn.naive_bayes import GaussianNB\n",
    "\n",
    "nb_features_orig=len(features[1])\n",
    "\n",
    "#For each case, we want to record the different metrics.\n",
    "precision_result=[]\n",
    "recall_result=[]\n",
    "f1_result=[]\n",
    "f2_result=[]\n",
    "nb_feature_store=[]\n",
    "\n",
    "#Classifier\n",
    "clf=GaussianNB()\n",
    "\n",
    "#We calculate the evaluation metrics for k best number of features selected in the model.\n",
    "for nb_features in range(1,nb_features_orig+1):\n",
    "    \n",
    "    #We use cross-validation and we calculate precision and recall metrics\n",
    "    precision,recall,f1,f2=test_classifier(clf, labels, features,nb_features, folds = 1000)\n",
    "    #We record the evaluation metrics for each case               \n",
    "    precision_result.append(precision)\n",
    "    recall_result.append(recall)     \n",
    "    f1_result.append(f1)\n",
    "    f2_result.append(f2)\n",
    "    nb_feature_store.append(nb_features)"
   ]
  },
  {
   "cell_type": "markdown",
   "metadata": {},
   "source": [
    "Let's plot the precision and recall by number of features selected in the model."
   ]
  },
  {
   "cell_type": "code",
   "execution_count": 18,
   "metadata": {
    "collapsed": false
   },
   "outputs": [
    {
     "data": {
      "image/png": "[encoded data removed]",
      "text/plain": [
       "<matplotlib.figure.Figure at 0x108f87190>"
      ]
     },
     "metadata": {},
     "output_type": "display_data"
    }
   ],
   "source": [
    "plt.plot(range(1,nb_features_orig+1),precision_result,c='red',label='precision')\n",
    "plt.plot(range(1,nb_features_orig+1),recall_result,c='blue',label='recall')\n",
    "plt.xlabel(\"Number of features used in the model\")\n",
    "plt.title(\"Precision and recall by number of features included in the model\")\n",
    "plt.legend()\n",
    "plt.show()"
   ]
  },
  {
   "cell_type": "markdown",
   "metadata": {},
   "source": [
    "We observe that if we select 6 best features we have the best performance with a precision and recall higher than 0.3. We have interesting performance with 14 features but we'd rather create a simpler model with fewer features."
   ]
  },
  {
   "cell_type": "markdown",
   "metadata": {},
   "source": [
    "What are the exact precision and recall when we select the 6 best features?"
   ]
  },
  {
   "cell_type": "code",
   "execution_count": 19,
   "metadata": {
    "collapsed": false
   },
   "outputs": [
    {
     "name": "stdout",
     "output_type": "stream",
     "text": [
      "Precsion when the 6 best features are selected: 0.434235368156\n",
      "Recall when the 6 best features are selected 0.345\n"
     ]
    }
   ],
   "source": [
    "print \"Precsion when the 6 best features are selected:\",precision_result[5]\n",
    "print \"Recall when the 6 best features are selected\",recall_result[5]"
   ]
  },
  {
   "cell_type": "code",
   "execution_count": 20,
   "metadata": {
    "collapsed": true
   },
   "outputs": [],
   "source": [
    "selector=feature_selection(6,features, labels)"
   ]
  },
  {
   "cell_type": "code",
   "execution_count": 21,
   "metadata": {
    "collapsed": false
   },
   "outputs": [
    {
     "data": {
      "text/html": [
       "<div>\n",
       "<table border=\"1\" class=\"dataframe\">\n",
       "  <thead>\n",
       "    <tr style=\"text-align: right;\">\n",
       "      <th></th>\n",
       "      <th>feature_name</th>\n",
       "      <th>score</th>\n",
       "    </tr>\n",
       "  </thead>\n",
       "  <tbody>\n",
       "    <tr>\n",
       "      <th>4</th>\n",
       "      <td>exercised_stock_options</td>\n",
       "      <td>25.0975</td>\n",
       "    </tr>\n",
       "    <tr>\n",
       "      <th>9</th>\n",
       "      <td>total_stock_value</td>\n",
       "      <td>24.4677</td>\n",
       "    </tr>\n",
       "    <tr>\n",
       "      <th>5</th>\n",
       "      <td>bonus</td>\n",
       "      <td>21.06</td>\n",
       "    </tr>\n",
       "    <tr>\n",
       "      <th>0</th>\n",
       "      <td>salary</td>\n",
       "      <td>18.5757</td>\n",
       "    </tr>\n",
       "    <tr>\n",
       "      <th>18</th>\n",
       "      <td>fraction_to_poi</td>\n",
       "      <td>16.6417</td>\n",
       "    </tr>\n",
       "    <tr>\n",
       "      <th>15</th>\n",
       "      <td>deferred_income</td>\n",
       "      <td>11.5955</td>\n",
       "    </tr>\n",
       "    <tr>\n",
       "      <th>16</th>\n",
       "      <td>long_term_incentive</td>\n",
       "      <td>10.0725</td>\n",
       "    </tr>\n",
       "    <tr>\n",
       "      <th>6</th>\n",
       "      <td>restricted_stock</td>\n",
       "      <td>9.3467</td>\n",
       "    </tr>\n",
       "    <tr>\n",
       "      <th>3</th>\n",
       "      <td>total_payments</td>\n",
       "      <td>8.86672</td>\n",
       "    </tr>\n",
       "    <tr>\n",
       "      <th>7</th>\n",
       "      <td>shared_receipt_with_poi</td>\n",
       "      <td>8.74649</td>\n",
       "    </tr>\n",
       "    <tr>\n",
       "      <th>11</th>\n",
       "      <td>loan_advances</td>\n",
       "      <td>7.24273</td>\n",
       "    </tr>\n",
       "    <tr>\n",
       "      <th>10</th>\n",
       "      <td>expenses</td>\n",
       "      <td>6.2342</td>\n",
       "    </tr>\n",
       "    <tr>\n",
       "      <th>19</th>\n",
       "      <td>from_poi_to_this_person</td>\n",
       "      <td>5.34494</td>\n",
       "    </tr>\n",
       "    <tr>\n",
       "      <th>13</th>\n",
       "      <td>other</td>\n",
       "      <td>4.20497</td>\n",
       "    </tr>\n",
       "    <tr>\n",
       "      <th>17</th>\n",
       "      <td>fraction_from_poi</td>\n",
       "      <td>3.21076</td>\n",
       "    </tr>\n",
       "    <tr>\n",
       "      <th>20</th>\n",
       "      <td>from_this_person_to_poi</td>\n",
       "      <td>2.42651</td>\n",
       "    </tr>\n",
       "    <tr>\n",
       "      <th>14</th>\n",
       "      <td>director_fees</td>\n",
       "      <td>2.10766</td>\n",
       "    </tr>\n",
       "    <tr>\n",
       "      <th>1</th>\n",
       "      <td>to_messages</td>\n",
       "      <td>1.69882</td>\n",
       "    </tr>\n",
       "    <tr>\n",
       "      <th>2</th>\n",
       "      <td>deferral_payments</td>\n",
       "      <td>0.217059</td>\n",
       "    </tr>\n",
       "    <tr>\n",
       "      <th>12</th>\n",
       "      <td>from_messages</td>\n",
       "      <td>0.164164</td>\n",
       "    </tr>\n",
       "    <tr>\n",
       "      <th>8</th>\n",
       "      <td>restricted_stock_deferred</td>\n",
       "      <td>0.0649843</td>\n",
       "    </tr>\n",
       "  </tbody>\n",
       "</table>\n",
       "</div>"
      ],
      "text/plain": [
       "                 feature_name      score\n",
       "4     exercised_stock_options    25.0975\n",
       "9           total_stock_value    24.4677\n",
       "5                       bonus      21.06\n",
       "0                      salary    18.5757\n",
       "18            fraction_to_poi    16.6417\n",
       "15            deferred_income    11.5955\n",
       "16        long_term_incentive    10.0725\n",
       "6            restricted_stock     9.3467\n",
       "3              total_payments    8.86672\n",
       "7     shared_receipt_with_poi    8.74649\n",
       "11              loan_advances    7.24273\n",
       "10                   expenses     6.2342\n",
       "19    from_poi_to_this_person    5.34494\n",
       "13                      other    4.20497\n",
       "17          fraction_from_poi    3.21076\n",
       "20    from_this_person_to_poi    2.42651\n",
       "14              director_fees    2.10766\n",
       "1                 to_messages    1.69882\n",
       "2           deferral_payments   0.217059\n",
       "12              from_messages   0.164164\n",
       "8   restricted_stock_deferred  0.0649843"
      ]
     },
     "execution_count": 21,
     "metadata": {},
     "output_type": "execute_result"
    }
   ],
   "source": [
    "import pandas as pd\n",
    "feature_importance=pd.DataFrame([features_list[1:],list(selector.scores_)]).T\n",
    "feature_importance.columns=['feature_name','score']\n",
    "feature_importance.sort_values('score',ascending=False)"
   ]
  },
  {
   "cell_type": "markdown",
   "metadata": {},
   "source": [
    "The 6 best features are:\n",
    "- exercised_stock_option\n",
    "- total_stock_value\n",
    "- bonus \n",
    "- salary\n",
    "- fraction_to_poi\n",
    "- deferred_income"
   ]
  },
  {
   "cell_type": "markdown",
   "metadata": {},
   "source": [
    "## b. K-Nearest Neighbors"
   ]
  },
  {
   "cell_type": "markdown",
   "metadata": {},
   "source": [
    "Let's try the K-Nearest Neighbors algorithm. Before training this algorithm, it's important to rescale the features because the algorithm compute the euclidian distance and it will be more affected my large features."
   ]
  },
  {
   "cell_type": "code",
   "execution_count": 22,
   "metadata": {
    "collapsed": true
   },
   "outputs": [],
   "source": [
    "from sklearn.preprocessing import MinMaxScaler\n",
    "min_max_scaler=MinMaxScaler()\n",
    "features=min_max_scaler.fit_transform(features)"
   ]
  },
  {
   "cell_type": "markdown",
   "metadata": {},
   "source": [
    "One parameter which is important to tune for the k-Nearest-neighbors is the number of neighbors. If we set n_neighbors=1, the person is going to be labeled based on the closest neighbor. If we set n_neighbors=10, the person is going to labeled based on the 10 nearest neighbors. When the number of neighbors is small, the bias is low, however the variance is high. That's why it's important to find the right trade-off by using a cross-validation method to tune the parameter."
   ]
  },
  {
   "cell_type": "code",
   "execution_count": 23,
   "metadata": {
    "collapsed": false
   },
   "outputs": [],
   "source": [
    "from sklearn.neighbors import KNeighborsClassifier\n",
    "\n",
    "nb_features_orig=len(features[1])\n",
    "\n",
    "#For each case, we want to record the different metrics.\n",
    "precision_result=[]\n",
    "recall_result=[]\n",
    "f1_result=[]\n",
    "f2_result=[]\n",
    "\n",
    "nb_neighbors_store=[]\n",
    "nb_feature_store=[]\n",
    "\n",
    "#Number of neighbours tested\n",
    "nb_neighbors=[1,2,3,5,10,20,30]\n",
    "\n",
    "#We calculate the evaluation metrics for k best number of features selected in the model.\n",
    "for nb_features in range(1,nb_features_orig+1):\n",
    "    #Number of neighbours\n",
    "    for k in range(len(nb_neighbors)):\n",
    "        \n",
    "        #classifier\n",
    "        clf =KNeighborsClassifier(n_neighbors=nb_neighbors[k])\n",
    "        #We use cross-validation and we calculate precision and recall metrics\n",
    "        precision,recall,f1,f2=test_classifier(clf, labels, features,nb_features, folds = 1000)\n",
    "        \n",
    "        #We record the evaluation metrics for each case\n",
    "        precision_result.append(precision)\n",
    "        recall_result.append(recall)     \n",
    "        f1_result.append(f1)\n",
    "        f2_result.append(f2)\n",
    "        nb_feature_store.append(nb_features)\n",
    "        nb_neighbors_store.append(nb_neighbors[k])"
   ]
  },
  {
   "cell_type": "markdown",
   "metadata": {},
   "source": [
    "Let's create a pandas DataFrame with the avaluation metrics (precision, recall, f1,f2) for each case simulated."
   ]
  },
  {
   "cell_type": "code",
   "execution_count": 24,
   "metadata": {
    "collapsed": false
   },
   "outputs": [
    {
     "data": {
      "text/html": [
       "<div>\n",
       "<table border=\"1\" class=\"dataframe\">\n",
       "  <thead>\n",
       "    <tr style=\"text-align: right;\">\n",
       "      <th></th>\n",
       "      <th>nb_feature</th>\n",
       "      <th>nb_neighbors</th>\n",
       "      <th>precision</th>\n",
       "      <th>recall</th>\n",
       "      <th>f1</th>\n",
       "      <th>f2</th>\n",
       "    </tr>\n",
       "  </thead>\n",
       "  <tbody>\n",
       "    <tr>\n",
       "      <th>0</th>\n",
       "      <td>1</td>\n",
       "      <td>1</td>\n",
       "      <td>0.207246</td>\n",
       "      <td>0.1945</td>\n",
       "      <td>0.200671</td>\n",
       "      <td>0.196922</td>\n",
       "    </tr>\n",
       "    <tr>\n",
       "      <th>1</th>\n",
       "      <td>1</td>\n",
       "      <td>2</td>\n",
       "      <td>0.251055</td>\n",
       "      <td>0.0595</td>\n",
       "      <td>0.096200</td>\n",
       "      <td>0.070215</td>\n",
       "    </tr>\n",
       "    <tr>\n",
       "      <th>2</th>\n",
       "      <td>1</td>\n",
       "      <td>3</td>\n",
       "      <td>0.191111</td>\n",
       "      <td>0.0860</td>\n",
       "      <td>0.118621</td>\n",
       "      <td>0.096629</td>\n",
       "    </tr>\n",
       "    <tr>\n",
       "      <th>3</th>\n",
       "      <td>1</td>\n",
       "      <td>5</td>\n",
       "      <td>0.323017</td>\n",
       "      <td>0.0835</td>\n",
       "      <td>0.132698</td>\n",
       "      <td>0.098039</td>\n",
       "    </tr>\n",
       "    <tr>\n",
       "      <th>4</th>\n",
       "      <td>1</td>\n",
       "      <td>10</td>\n",
       "      <td>0.000000</td>\n",
       "      <td>0.0000</td>\n",
       "      <td>0.000000</td>\n",
       "      <td>0.000000</td>\n",
       "    </tr>\n",
       "  </tbody>\n",
       "</table>\n",
       "</div>"
      ],
      "text/plain": [
       "   nb_feature  nb_neighbors  precision  recall        f1        f2\n",
       "0           1             1   0.207246  0.1945  0.200671  0.196922\n",
       "1           1             2   0.251055  0.0595  0.096200  0.070215\n",
       "2           1             3   0.191111  0.0860  0.118621  0.096629\n",
       "3           1             5   0.323017  0.0835  0.132698  0.098039\n",
       "4           1            10   0.000000  0.0000  0.000000  0.000000"
      ]
     },
     "execution_count": 24,
     "metadata": {},
     "output_type": "execute_result"
    }
   ],
   "source": [
    "import pandas as pd\n",
    "result=pd.DataFrame([nb_feature_store,nb_neighbors_store,precision_result,recall_result,f1_result,f2_result]).T\n",
    "result.columns=['nb_feature','nb_neighbors','precision','recall','f1','f2']\n",
    "result.head()"
   ]
  },
  {
   "cell_type": "markdown",
   "metadata": {},
   "source": [
    "First, we want to determine how many features we want to select to have the best precision and recall."
   ]
  },
  {
   "cell_type": "markdown",
   "metadata": {},
   "source": [
    "We select the best F2-score for each number of features included in the model. We use the F2 score instead of F1 socre because it puts more weight on recall. This is important because recall tends to be lower, and we want to find precision and recall higher than 0.3."
   ]
  },
  {
   "cell_type": "code",
   "execution_count": 25,
   "metadata": {
    "collapsed": false
   },
   "outputs": [],
   "source": [
    "result_sort_by_f2=result.sort_values('f2',ascending=False)\n",
    "result_group=result_sort_by_f2.groupby('nb_feature')"
   ]
  },
  {
   "cell_type": "code",
   "execution_count": 26,
   "metadata": {
    "collapsed": false
   },
   "outputs": [
    {
     "data": {
      "text/html": [
       "<div>\n",
       "<table border=\"1\" class=\"dataframe\">\n",
       "  <thead>\n",
       "    <tr style=\"text-align: right;\">\n",
       "      <th></th>\n",
       "      <th>nb_feature</th>\n",
       "      <th>nb_neighbors</th>\n",
       "      <th>precision</th>\n",
       "      <th>recall</th>\n",
       "      <th>f1</th>\n",
       "      <th>f2</th>\n",
       "    </tr>\n",
       "  </thead>\n",
       "  <tbody>\n",
       "    <tr>\n",
       "      <th>0</th>\n",
       "      <td>1</td>\n",
       "      <td>1</td>\n",
       "      <td>0.207246</td>\n",
       "      <td>0.1945</td>\n",
       "      <td>0.200671</td>\n",
       "      <td>0.196922</td>\n",
       "    </tr>\n",
       "    <tr>\n",
       "      <th>7</th>\n",
       "      <td>2</td>\n",
       "      <td>1</td>\n",
       "      <td>0.182790</td>\n",
       "      <td>0.1795</td>\n",
       "      <td>0.181130</td>\n",
       "      <td>0.180149</td>\n",
       "    </tr>\n",
       "    <tr>\n",
       "      <th>14</th>\n",
       "      <td>3</td>\n",
       "      <td>1</td>\n",
       "      <td>0.300465</td>\n",
       "      <td>0.2910</td>\n",
       "      <td>0.295657</td>\n",
       "      <td>0.292845</td>\n",
       "    </tr>\n",
       "    <tr>\n",
       "      <th>21</th>\n",
       "      <td>4</td>\n",
       "      <td>1</td>\n",
       "      <td>0.298264</td>\n",
       "      <td>0.2835</td>\n",
       "      <td>0.290695</td>\n",
       "      <td>0.286335</td>\n",
       "    </tr>\n",
       "    <tr>\n",
       "      <th>30</th>\n",
       "      <td>5</td>\n",
       "      <td>3</td>\n",
       "      <td>0.283772</td>\n",
       "      <td>0.1670</td>\n",
       "      <td>0.210261</td>\n",
       "      <td>0.181977</td>\n",
       "    </tr>\n",
       "  </tbody>\n",
       "</table>\n",
       "</div>"
      ],
      "text/plain": [
       "    nb_feature  nb_neighbors  precision  recall        f1        f2\n",
       "0            1             1   0.207246  0.1945  0.200671  0.196922\n",
       "7            2             1   0.182790  0.1795  0.181130  0.180149\n",
       "14           3             1   0.300465  0.2910  0.295657  0.292845\n",
       "21           4             1   0.298264  0.2835  0.290695  0.286335\n",
       "30           5             3   0.283772  0.1670  0.210261  0.181977"
      ]
     },
     "execution_count": 26,
     "metadata": {},
     "output_type": "execute_result"
    }
   ],
   "source": [
    "top_param_by_nbfeature=result_group.head(1).sort_values('nb_feature')\n",
    "top_param_by_nbfeature.head()"
   ]
  },
  {
   "cell_type": "markdown",
   "metadata": {},
   "source": [
    "Let's plot the precision and recall by number of features selected in the model."
   ]
  },
  {
   "cell_type": "code",
   "execution_count": 27,
   "metadata": {
    "collapsed": false
   },
   "outputs": [
    {
     "data": {
      "image/png": "[encoded data removed]",
      "text/plain": [
       "<matplotlib.figure.Figure at 0x10987b950>"
      ]
     },
     "metadata": {},
     "output_type": "display_data"
    }
   ],
   "source": [
    "plt.plot(top_param_by_nbfeature.nb_feature,top_param_by_nbfeature.precision,c='red',label='precision')\n",
    "plt.plot(top_param_by_nbfeature.nb_feature,top_param_by_nbfeature.recall,c='blue',label='recall')\n",
    "plt.xlabel(\"Number of features used in the model\")\n",
    "plt.legend()\n",
    "plt.show()"
   ]
  },
  {
   "cell_type": "markdown",
   "metadata": {},
   "source": [
    "The 4 best features selected seems to provide the best performance. However the recall is lower than 0.3."
   ]
  },
  {
   "cell_type": "markdown",
   "metadata": {},
   "source": [
    "If we select the 4 best variables, what's the number of neighbors that provides the best precision and recall (f2)?"
   ]
  },
  {
   "cell_type": "code",
   "execution_count": 28,
   "metadata": {
    "collapsed": false
   },
   "outputs": [
    {
     "data": {
      "text/html": [
       "<div>\n",
       "<table border=\"1\" class=\"dataframe\">\n",
       "  <thead>\n",
       "    <tr style=\"text-align: right;\">\n",
       "      <th></th>\n",
       "      <th>nb_feature</th>\n",
       "      <th>nb_neighbors</th>\n",
       "      <th>precision</th>\n",
       "      <th>recall</th>\n",
       "      <th>f1</th>\n",
       "      <th>f2</th>\n",
       "    </tr>\n",
       "  </thead>\n",
       "  <tbody>\n",
       "    <tr>\n",
       "      <th>21</th>\n",
       "      <td>4</td>\n",
       "      <td>1</td>\n",
       "      <td>0.298264</td>\n",
       "      <td>0.2835</td>\n",
       "      <td>0.290695</td>\n",
       "      <td>0.286335</td>\n",
       "    </tr>\n",
       "  </tbody>\n",
       "</table>\n",
       "</div>"
      ],
      "text/plain": [
       "    nb_feature  nb_neighbors  precision  recall        f1        f2\n",
       "21           4             1   0.298264  0.2835  0.290695  0.286335"
      ]
     },
     "execution_count": 28,
     "metadata": {},
     "output_type": "execute_result"
    }
   ],
   "source": [
    "top_param_by_nbfeature[top_param_by_nbfeature.nb_feature==4]"
   ]
  },
  {
   "cell_type": "markdown",
   "metadata": {},
   "source": [
    "The answer is nb_neighbors=1."
   ]
  },
  {
   "cell_type": "markdown",
   "metadata": {},
   "source": [
    "## c. Support Vector Machine "
   ]
  },
  {
   "cell_type": "markdown",
   "metadata": {},
   "source": [
    "The features are already rescaled. It's important to scale features because the decision boundary is affected by the size of the feature when the algorithm maximizes the margin. "
   ]
  },
  {
   "cell_type": "markdown",
   "metadata": {},
   "source": [
    "For the support vector machine algorithm, we need to tune the following parameters:\n",
    "- **C** : controls tradeoff between smooth decision boundary and classifying training point correctly. When C gets large we expect more training points correct however there is a risk of overfitting.\n",
    "- **kernel** : transform the input space in a a much larger input space to be linearaly seperable. Here we will use the radial ('rbf') kernel because it takes too much time to train the algorithm with linear kernel.\n",
    "- **gamma** : Kernel coefficient for ‘rbf’"
   ]
  },
  {
   "cell_type": "code",
   "execution_count": 29,
   "metadata": {
    "collapsed": true
   },
   "outputs": [],
   "source": [
    "from sklearn.svm import SVC\n",
    "\n",
    "nb_features_orig=len(features[1])\n",
    "#For each case, we want to record the different metrics.\n",
    "precision_result=[]\n",
    "recall_result=[]\n",
    "f1_result=[]\n",
    "f2_result=[]\n",
    "\n",
    "C_param_store=[]\n",
    "gamma_param_store=[]\n",
    "nb_feature_store=[]\n",
    "\n",
    "C_param= [0.1,1.0,1e1,1e2,1e3, 5e3, 1e4, 5e4, 1e5]\n",
    "gamma_param=[0.0001, 0.0005, 0.001, 0.005, 0.01, 0.1]\n",
    "\n",
    "for nb_features in range(1,nb_features_orig+1):\n",
    "    \n",
    "    best_precision=0\n",
    "    best_recall=0\n",
    "    best_f1=0\n",
    "    \n",
    "    for i in range(len(C_param)):\n",
    "        for j in range(len(gamma_param)):\n",
    "            \n",
    "            clf=SVC(kernel='rbf',C=C_param[i],gamma=gamma_param[j])\n",
    "\n",
    "            #We use cross-validation and we calculate precision and recall metrics\n",
    "            precision,recall,f1,f2=test_classifier(clf, labels, features,nb_features, folds = 1000)\n",
    "        \n",
    "            #We record the evaluation metrics for each case\n",
    "            precision_result.append(precision)\n",
    "            recall_result.append(recall)     \n",
    "            f1_result.append(f1)\n",
    "            f2_result.append(f2)\n",
    "            C_param_store.append(C_param[i])\n",
    "            gamma_param_store.append(gamma_param[j])\n",
    "            nb_feature_store.append(nb_features)"
   ]
  },
  {
   "cell_type": "markdown",
   "metadata": {},
   "source": [
    "Let's create a pandas DataFrame with the avaluation metrics (precision, recall, f1,f2) for each case simulated."
   ]
  },
  {
   "cell_type": "code",
   "execution_count": 30,
   "metadata": {
    "collapsed": false
   },
   "outputs": [
    {
     "data": {
      "text/html": [
       "<div>\n",
       "<table border=\"1\" class=\"dataframe\">\n",
       "  <thead>\n",
       "    <tr style=\"text-align: right;\">\n",
       "      <th></th>\n",
       "      <th>nb_feature</th>\n",
       "      <th>C</th>\n",
       "      <th>gamma</th>\n",
       "      <th>precision</th>\n",
       "      <th>recall</th>\n",
       "      <th>f1</th>\n",
       "      <th>f2</th>\n",
       "    </tr>\n",
       "  </thead>\n",
       "  <tbody>\n",
       "    <tr>\n",
       "      <th>0</th>\n",
       "      <td>1</td>\n",
       "      <td>0.1</td>\n",
       "      <td>0.0001</td>\n",
       "      <td>0</td>\n",
       "      <td>0</td>\n",
       "      <td>0</td>\n",
       "      <td>0</td>\n",
       "    </tr>\n",
       "    <tr>\n",
       "      <th>1</th>\n",
       "      <td>1</td>\n",
       "      <td>0.1</td>\n",
       "      <td>0.0005</td>\n",
       "      <td>0</td>\n",
       "      <td>0</td>\n",
       "      <td>0</td>\n",
       "      <td>0</td>\n",
       "    </tr>\n",
       "    <tr>\n",
       "      <th>2</th>\n",
       "      <td>1</td>\n",
       "      <td>0.1</td>\n",
       "      <td>0.0010</td>\n",
       "      <td>0</td>\n",
       "      <td>0</td>\n",
       "      <td>0</td>\n",
       "      <td>0</td>\n",
       "    </tr>\n",
       "    <tr>\n",
       "      <th>3</th>\n",
       "      <td>1</td>\n",
       "      <td>0.1</td>\n",
       "      <td>0.0050</td>\n",
       "      <td>0</td>\n",
       "      <td>0</td>\n",
       "      <td>0</td>\n",
       "      <td>0</td>\n",
       "    </tr>\n",
       "    <tr>\n",
       "      <th>4</th>\n",
       "      <td>1</td>\n",
       "      <td>0.1</td>\n",
       "      <td>0.0100</td>\n",
       "      <td>0</td>\n",
       "      <td>0</td>\n",
       "      <td>0</td>\n",
       "      <td>0</td>\n",
       "    </tr>\n",
       "  </tbody>\n",
       "</table>\n",
       "</div>"
      ],
      "text/plain": [
       "   nb_feature    C   gamma  precision  recall  f1  f2\n",
       "0           1  0.1  0.0001          0       0   0   0\n",
       "1           1  0.1  0.0005          0       0   0   0\n",
       "2           1  0.1  0.0010          0       0   0   0\n",
       "3           1  0.1  0.0050          0       0   0   0\n",
       "4           1  0.1  0.0100          0       0   0   0"
      ]
     },
     "execution_count": 30,
     "metadata": {},
     "output_type": "execute_result"
    }
   ],
   "source": [
    "import pandas as pd\n",
    "result=pd.DataFrame([nb_feature_store, C_param_store,gamma_param_store,precision_result,recall_result,f1_result,f2_result]).T\n",
    "result.columns=['nb_feature','C','gamma','precision','recall','f1','f2']\n",
    "result.head()"
   ]
  },
  {
   "cell_type": "markdown",
   "metadata": {},
   "source": [
    "First, we want to determine how many features we want to select to have the best precision and recall."
   ]
  },
  {
   "cell_type": "markdown",
   "metadata": {},
   "source": [
    "We select the best F2-score for each number of features included in the model. We use the F2 score instead of F1 socre because it puts more weight on recall which is important because recall tends to be lower and we want to find precision and recall higher than 0.3."
   ]
  },
  {
   "cell_type": "code",
   "execution_count": 31,
   "metadata": {
    "collapsed": true
   },
   "outputs": [],
   "source": [
    "result_sort_by_f2=result.sort_values('f2',ascending=False)\n",
    "result_group=result_sort_by_f2.groupby('nb_feature')"
   ]
  },
  {
   "cell_type": "code",
   "execution_count": 32,
   "metadata": {
    "collapsed": false
   },
   "outputs": [
    {
     "data": {
      "text/html": [
       "<div>\n",
       "<table border=\"1\" class=\"dataframe\">\n",
       "  <thead>\n",
       "    <tr style=\"text-align: right;\">\n",
       "      <th></th>\n",
       "      <th>nb_feature</th>\n",
       "      <th>C</th>\n",
       "      <th>gamma</th>\n",
       "      <th>precision</th>\n",
       "      <th>recall</th>\n",
       "      <th>f1</th>\n",
       "      <th>f2</th>\n",
       "    </tr>\n",
       "  </thead>\n",
       "  <tbody>\n",
       "    <tr>\n",
       "      <th>53</th>\n",
       "      <td>1</td>\n",
       "      <td>100000</td>\n",
       "      <td>0.10</td>\n",
       "      <td>0.504926</td>\n",
       "      <td>0.1025</td>\n",
       "      <td>0.170407</td>\n",
       "      <td>0.121937</td>\n",
       "    </tr>\n",
       "    <tr>\n",
       "      <th>107</th>\n",
       "      <td>2</td>\n",
       "      <td>100000</td>\n",
       "      <td>0.10</td>\n",
       "      <td>0.570455</td>\n",
       "      <td>0.1255</td>\n",
       "      <td>0.205738</td>\n",
       "      <td>0.148697</td>\n",
       "    </tr>\n",
       "    <tr>\n",
       "      <th>160</th>\n",
       "      <td>3</td>\n",
       "      <td>100000</td>\n",
       "      <td>0.01</td>\n",
       "      <td>0.562222</td>\n",
       "      <td>0.1265</td>\n",
       "      <td>0.206531</td>\n",
       "      <td>0.149704</td>\n",
       "    </tr>\n",
       "    <tr>\n",
       "      <th>214</th>\n",
       "      <td>4</td>\n",
       "      <td>100000</td>\n",
       "      <td>0.01</td>\n",
       "      <td>0.536926</td>\n",
       "      <td>0.1345</td>\n",
       "      <td>0.215114</td>\n",
       "      <td>0.158217</td>\n",
       "    </tr>\n",
       "    <tr>\n",
       "      <th>269</th>\n",
       "      <td>5</td>\n",
       "      <td>100000</td>\n",
       "      <td>0.10</td>\n",
       "      <td>0.302770</td>\n",
       "      <td>0.1585</td>\n",
       "      <td>0.208074</td>\n",
       "      <td>0.175196</td>\n",
       "    </tr>\n",
       "  </tbody>\n",
       "</table>\n",
       "</div>"
      ],
      "text/plain": [
       "     nb_feature       C  gamma  precision  recall        f1        f2\n",
       "53            1  100000   0.10   0.504926  0.1025  0.170407  0.121937\n",
       "107           2  100000   0.10   0.570455  0.1255  0.205738  0.148697\n",
       "160           3  100000   0.01   0.562222  0.1265  0.206531  0.149704\n",
       "214           4  100000   0.01   0.536926  0.1345  0.215114  0.158217\n",
       "269           5  100000   0.10   0.302770  0.1585  0.208074  0.175196"
      ]
     },
     "execution_count": 32,
     "metadata": {},
     "output_type": "execute_result"
    }
   ],
   "source": [
    "top_param_by_nbfeature=result_group.head(1).sort_values('nb_feature')\n",
    "top_param_by_nbfeature.head()"
   ]
  },
  {
   "cell_type": "markdown",
   "metadata": {},
   "source": [
    "Let's plot the precision and recall by number of features selected in the model."
   ]
  },
  {
   "cell_type": "code",
   "execution_count": 33,
   "metadata": {
    "collapsed": false
   },
   "outputs": [
    {
     "data": {
      "image/png": "[encoded data removed]",
      "text/plain": [
       "<matplotlib.figure.Figure at 0x109872a90>"
      ]
     },
     "metadata": {},
     "output_type": "display_data"
    }
   ],
   "source": [
    "plt.plot(top_param_by_nbfeature.nb_feature,top_param_by_nbfeature.precision,c='red',label='precision')\n",
    "plt.plot(top_param_by_nbfeature.nb_feature,top_param_by_nbfeature.recall,c='blue',label='recall')\n",
    "plt.xlabel(\"Number of features used in the model\")\n",
    "plt.legend()\n",
    "plt.show()"
   ]
  },
  {
   "cell_type": "markdown",
   "metadata": {},
   "source": [
    "We can observe that with Support Vector Machine, we can acheive a high precision (more than 0.5) when we select the 2 or 3 best variables. However recall is lower than 0.2. When more than 10 features are selected, precision and recall tend to converge but they are still lower than 0.3. "
   ]
  },
  {
   "cell_type": "markdown",
   "metadata": {},
   "source": [
    "It should be noted that the best f2 we can reach by selecting the two best features is 0.148. To achieve this f2 we need to set the C parameter equal to 100000 and gamma=0.1."
   ]
  },
  {
   "cell_type": "code",
   "execution_count": 34,
   "metadata": {
    "collapsed": false
   },
   "outputs": [
    {
     "data": {
      "text/html": [
       "<div>\n",
       "<table border=\"1\" class=\"dataframe\">\n",
       "  <thead>\n",
       "    <tr style=\"text-align: right;\">\n",
       "      <th></th>\n",
       "      <th>nb_feature</th>\n",
       "      <th>C</th>\n",
       "      <th>gamma</th>\n",
       "      <th>precision</th>\n",
       "      <th>recall</th>\n",
       "      <th>f1</th>\n",
       "      <th>f2</th>\n",
       "    </tr>\n",
       "  </thead>\n",
       "  <tbody>\n",
       "    <tr>\n",
       "      <th>107</th>\n",
       "      <td>2</td>\n",
       "      <td>100000</td>\n",
       "      <td>0.1</td>\n",
       "      <td>0.570455</td>\n",
       "      <td>0.1255</td>\n",
       "      <td>0.205738</td>\n",
       "      <td>0.148697</td>\n",
       "    </tr>\n",
       "  </tbody>\n",
       "</table>\n",
       "</div>"
      ],
      "text/plain": [
       "     nb_feature       C  gamma  precision  recall        f1        f2\n",
       "107           2  100000    0.1   0.570455  0.1255  0.205738  0.148697"
      ]
     },
     "execution_count": 34,
     "metadata": {},
     "output_type": "execute_result"
    }
   ],
   "source": [
    "top_param_by_nbfeature[top_param_by_nbfeature.nb_feature==2]"
   ]
  },
  {
   "cell_type": "markdown",
   "metadata": {},
   "source": [
    "# 5. Conclusion"
   ]
  },
  {
   "cell_type": "markdown",
   "metadata": {},
   "source": [
    "The goal of this project was to achieve a precision and recall higher than 0.3. That's why we will use Gaussian Naive Bayes algorithm to identify persons of interest. We will include in the model the 6 following features:\n",
    "\n",
    "- exercised_stock_option\n",
    "- total_stock_value\n",
    "- bonus \n",
    "- salary\n",
    "- fraction_to_poi\n",
    "- deferred_income\n"
   ]
  },
  {
   "cell_type": "markdown",
   "metadata": {},
   "source": [
    "# 6. Udacity Tester"
   ]
  },
  {
   "cell_type": "markdown",
   "metadata": {},
   "source": [
    "What's the result return by the tester provided by Udacity when we apply the algorithm selected above?"
   ]
  },
  {
   "cell_type": "code",
   "execution_count": 35,
   "metadata": {
    "collapsed": false
   },
   "outputs": [
    {
     "data": {
      "text/plain": [
       "GaussianNB()"
      ]
     },
     "execution_count": 35,
     "metadata": {},
     "output_type": "execute_result"
    }
   ],
   "source": [
    "data_dict = pickle.load(open(\"final_project_dataset.pkl\", \"r\"))\n",
    "\n",
    "#We remove the outlier 'TOTAL'.\n",
    "data_dict.pop('TOTAL',0)\n",
    "\n",
    "#We create the feature 'fraction_from_poi' and 'fraction_to_poi'.\n",
    "def computeFraction(poi_messages, all_messages):\n",
    "    \"\"\" given a number messages to/from POI (numerator) \n",
    "        and number of all messages to/from a person (denominator),\n",
    "        return the fraction of messages to/from that person\n",
    "        that are from/to a POI\n",
    "   \"\"\"\n",
    "    fraction = 0.\n",
    "    \n",
    "    if poi_messages=='NaN' or all_messages=='NaN':\n",
    "        fraction = 0.\n",
    "    else:  \n",
    "        fraction=float(poi_messages)/float(all_messages)\n",
    "\n",
    "    return fraction\n",
    "\n",
    "\n",
    "for name in data_dict:\n",
    "\n",
    "    data_point = data_dict[name]\n",
    "\n",
    "    from_poi_to_this_person = data_point[\"from_poi_to_this_person\"]\n",
    "    to_messages = data_point[\"to_messages\"]\n",
    "    fraction_from_poi = computeFraction( from_poi_to_this_person, to_messages )\n",
    "    data_point[\"fraction_from_poi\"] = fraction_from_poi\n",
    "\n",
    "\n",
    "    from_this_person_to_poi = data_point[\"from_this_person_to_poi\"]\n",
    "    from_messages = data_point[\"from_messages\"]\n",
    "    fraction_to_poi = computeFraction( from_this_person_to_poi, from_messages )\n",
    "    data_point[\"fraction_to_poi\"] = fraction_to_poi\n",
    "\n",
    "#We select the features\n",
    "features_list = [\"poi\",\"exercised_stock_options\", \"total_stock_value\",\"bonus\",\"salary\",\"fraction_to_poi\",\"deferred_income\"]\n",
    "my_dataset=data_dict\n",
    "data = featureFormat(data_dict, features_list, sort_keys = True)\n",
    "labels, features = targetFeatureSplit(data)\n",
    "\n",
    "#We select the classifier, Gaussian Naive Bayes.\n",
    "clf=GaussianNB()\n",
    "\n",
    "#We train the classifier.\n",
    "clf.fit(data,labels)"
   ]
  },
  {
   "cell_type": "code",
   "execution_count": 36,
   "metadata": {
    "collapsed": false
   },
   "outputs": [],
   "source": [
    "dump_classifier_and_data(clf, my_dataset, features_list)"
   ]
  },
  {
   "cell_type": "code",
   "execution_count": 37,
   "metadata": {
    "collapsed": false
   },
   "outputs": [
    {
     "name": "stdout",
     "output_type": "stream",
     "text": [
      "GaussianNB()\n",
      "\tAccuracy: 0.86050\tPrecision: 0.51572\tRecall: 0.38550\tF1: 0.44120\tF2: 0.40600\n",
      "\tTotal predictions: 14000\tTrue positives:  771\tFalse positives:  724\tFalse negatives: 1229\tTrue negatives: 11276\n",
      "\n"
     ]
    }
   ],
   "source": [
    "sys.path.append(\"../final_project/\")\n",
    "from tester import load_classifier_and_data,test_classifier\n",
    "\n",
    "clf, dataset, feature_list = load_classifier_and_data()\n",
    "test_classifier(clf, dataset, feature_list)"
   ]
  },
  {
   "cell_type": "markdown",
   "metadata": {
    "collapsed": false
   },
   "source": [
    "When we run the Udacity tester we get precision of 0.52 and a recall of 0.39, both of which are above 0.3."
   ]
  },
  {
   "cell_type": "markdown",
   "metadata": {
    "collapsed": true
   },
   "source": [
    "# Ressources"
   ]
  },
  {
   "cell_type": "markdown",
   "metadata": {
    "collapsed": true
   },
   "source": [
    "- Udacity Machine Learning class\n",
    "- scikit learn documentation"
   ]
  }
 ],
 "metadata": {
  "kernelspec": {
   "display_name": "Python 2",
   "language": "python",
   "name": "python2"
  },
  "language_info": {
   "codemirror_mode": {
    "name": "ipython",
    "version": 2
   },
   "file_extension": ".py",
   "mimetype": "text/x-python",
   "name": "python",
   "nbconvert_exporter": "python",
   "pygments_lexer": "ipython2",
   "version": "2.7.10"
  }
 },
 "nbformat": 4,
 "nbformat_minor": 0
}
